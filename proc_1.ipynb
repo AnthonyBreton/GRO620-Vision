{
 "cells": [
  {
   "cell_type": "markdown",
   "metadata": {
    "id": "kh7ikCw1dWx5"
   },
   "source": [
    "# GRO620 - Activité procédurale 1\n",
    "\n",
    "Dans cette activité, nous allons principalement travailler sur les éléments nécessaires pour capter une image numériquement, les transformations entre repères 2D et 3D, et l'encodage numérique de la couleur."
   ]
  },
  {
   "cell_type": "code",
   "execution_count": 1,
   "metadata": {
    "colab": {
     "base_uri": "https://localhost:8080/"
    },
    "executionInfo": {
     "elapsed": 45339,
     "status": "ok",
     "timestamp": 1622381462155,
     "user": {
      "displayName": "François Ferland",
      "photoUrl": "https://lh3.googleusercontent.com/a-/AOh14GgF2Or95FbA-4pBmWOKA7jS0MHVh9HZkxsXcGWI=s64",
      "userId": "06573522356862301710"
     },
     "user_tz": 240
    },
    "id": "pC6BnG_3dWyA",
    "outputId": "4486fcd9-17b2-4018-e963-c0b64774adcc"
   },
   "outputs": [],
   "source": [
    "# Préambule\n",
    "\n",
    "import numpy as np\n",
    "import cv2\n",
    "\n",
    "import matplotlib.pyplot as plt\n",
    "%matplotlib inline\n",
    "\n",
    "## Si vous utilisez Google Colab, vous devez d'abord monter votre Google Drive\n",
    "## où se trouve vos données. \n",
    "## Commentez les trois lignes suivantes en ajustant le chemin vers votre propre\n",
    "## dossier :\n",
    "\n",
    "# from google.colab import drive\n",
    "# drive.mount('/content/gdrive')\n",
    "# %cd /content/gdrive/MyDrive/gro620-e21\n",
    "\n",
    "## Pour retrouver le chemin depuis Jupyter, vous pouvez utiliser ceci :\n",
    "# !ls /content/gdrive/MyDrive\n"
   ]
  },
  {
   "cell_type": "markdown",
   "metadata": {
    "id": "J1xSdXoMdWyB"
   },
   "source": [
    "## Acquisition et caractéristiques de la lumière\n",
    "\n",
    "### Q1.1\n",
    "\n",
    "À partir de la figure 2.23 du livre de référence, décrivez en une phrase le rôle de chacune des étapes de la chaîne d'acquisition d'images numériques."
   ]
  },
  {
   "cell_type": "markdown",
   "metadata": {
    "id": "PPRDNqrrdWyB"
   },
   "source": [
    "*(réponse ici)*\\\n",
    "__Optics__ : Lentille qui perment de diriger la lumière sur le senseur. Niveau de zoom Focus.<br>\n",
    "__Aperture__ : Ouverture laissant passer plus ou moins de lumière.<br>\n",
    "__Shutter__ : Temps d'acquisition de lumière du senseur.<br>\n",
    "__Senseur__ : Converti la lumière en signaux électrique comme du voltage (CCD & CMOS)<br>\n",
    "__Gain (ISO)__ : Sensibilité à la lumière (amplifie le voltage) peut amplifier le bruit<br>\n",
    "__A/D__ : Analog to Digital convertisseur qui applique un gain électronique<br>\n",
    "__Demosaic__ : Transform from a color filter array (CFA) into a full-color RGB image<br>\n",
    "__Sharpen__ : Retirer du bruit permettant d'améliorer la qualité de l'image. Élimigne le flou dans l'image<br>\n",
    "__White Balance__ : Ajuste la luminosité de l'image en fonction du point le plus blanc dans l'image. Ajuste les couleurs dans l'image<br>\n",
    "__Gamma/curve__ : Donne une meilleure résolution à certaines valeurs du capteur (sombre ou claire) selon une courbe au lieu d'être linéaire<br>\n",
    "__Compress__ : Réduire la taille du fichier de l'image ce qui peut induire des pertes<br>"
   ]
  },
  {
   "cell_type": "markdown",
   "metadata": {
    "id": "Zdxhihn2dWyB"
   },
   "source": [
    "### Q1.2\n",
    "\n",
    "Quelle est la différence entre paramètres intrinsèques et extrinsèques du caméra ? Décrivez chaque type en une phrase."
   ]
  },
  {
   "cell_type": "markdown",
   "metadata": {
    "id": "uiFuS6rPdWyC"
   },
   "source": [
    "*(réponse ici)*<br>\n",
    "__Intrinsèques__ : Paramètres du capteur qui sont fixés par le fabricant du capteur propre à la caméra\n",
    "- Focus : Niveau de zoom\n",
    "- Distance focale\n",
    "- Résolution\n",
    "- Taille du capteur\n",
    "\n",
    "__Extrinsèques__ : Paramètres du capteur qui sont modifiés par l'utilisateur (externe)\n",
    "- Position de la caméra dans l'environnement (matrice de transformation)\n",
    "- "
   ]
  },
  {
   "cell_type": "markdown",
   "metadata": {
    "id": "_FWZECptdWyC"
   },
   "source": [
    "### Q1.3\n",
    "\n",
    "Soit la configuration intrinsèque d'une caméra représentée par la matrice $K$ :\n",
    "\n",
    "$$\n",
    "K = \\begin{bmatrix} \n",
    " 620 &   0 & 1024 \\\\ \n",
    "   0 & 620 &  512 \\\\ \n",
    "   0 &   0 &    1 \n",
    "\\end{bmatrix}\n",
    "$$\n",
    "\n",
    "$$\n",
    "K = \\begin{bmatrix} \n",
    " f &   0 & cx \\\\ \n",
    "   0 & f &  cy \\\\ \n",
    "   0 &   0 &    1 \n",
    "\\end{bmatrix}\n",
    "$$\n",
    "\n",
    "Coordonnées du centre du capteur (cx, cy)\n",
    "\n",
    "# Voir p.52\n",
    "\n",
    "Le capteur de cette caméra a une taille de 30 mm x 15 mm.\n",
    "\n",
    "Pouvez-vous estimer la distance focale en mm de la lentille de cette caméra à partir de la matrice $K$ ?"
   ]
  },
  {
   "cell_type": "code",
   "execution_count": 2,
   "metadata": {
    "id": "mcfUfXCCdWyC"
   },
   "outputs": [
    {
     "name": "stdout",
     "output_type": "stream",
     "text": [
      "9.08203125 mm\n"
     ]
    }
   ],
   "source": [
    "# Réponse ici.\n",
    "K = np.array([[620.,   0., 1024.],\n",
    "              [  0., 620.,  512.],\n",
    "              [  0.,   0.,    1.]\n",
    "])\n",
    "f = 620 # pixels\n",
    "# 1024 pixels = 15mm\n",
    "# 620 = ?\n",
    "f_mm = f*15/1024\n",
    "print(str(f_mm) + \" mm\")"
   ]
  },
  {
   "cell_type": "markdown",
   "metadata": {
    "id": "quJcFsPbdWyD"
   },
   "source": [
    "### Q1.4\n",
    "\n",
    "Dans le cadre de cet APP, nous considérons les caméras comme étant idéales, c'est-à-dire qu'on peut obtenir leurs caractéristiques intrinsèques et extrinsèques à partir de quelques paramètres seulement.\n",
    "\n",
    "**a)** Qu'est-ce qui rend les vraies caméras non-idéales ? Nommez des facteurs autant pour les caractéristiques intrinsèques que extrinsèques."
   ]
  },
  {
   "cell_type": "markdown",
   "metadata": {
    "id": "Erl2fPTidWyD"
   },
   "source": [
    "*(réponse ici)*<br>\n",
    "- Imperfection de la lentille (Abérration sphérique)\n",
    "- Imperfection d'assemblage\n",
    "- Coma (ressemble à la trainée d'une commète)\n",
    "- Astigmatism\n",
    "- Field curvature\n",
    "- Distortion\n",
    "- Chromatic aberration (dispersion de la lumière blanche)"
   ]
  },
  {
   "cell_type": "markdown",
   "metadata": {
    "id": "5sfg46RtdWyD"
   },
   "source": [
    "**b)** Que doit on faire pour obtenir les caractéristiques d'une caméra non-idéale ?"
   ]
  },
  {
   "cell_type": "markdown",
   "metadata": {
    "id": "bezo06eCdWyE"
   },
   "source": [
    "*(réponse ici)*<br>\n",
    "- Calibration de la caméra"
   ]
  },
  {
   "cell_type": "markdown",
   "metadata": {
    "id": "NhFn190TftCu"
   },
   "source": [
    "### Q1.5\n",
    "\n",
    "Dans cette image synthétique : \n",
    "\n",
    "![](https://upload.wikimedia.org/wikipedia/commons/c/cd/Specular_highlight.jpg)\n",
    "\n",
    "(source: [Wikimedia Commons](https://commons.wikimedia.org/wiki/File:Specular_highlight.jpg))\n",
    "\n",
    "**a)** Quelle(s) partie(s) correspondent à l'illumination diffuse et les reflets spéculaires ?"
   ]
  },
  {
   "cell_type": "markdown",
   "metadata": {
    "id": "9yFIYACqdXa3"
   },
   "source": [
    "*(réponse ici)*<br>\n",
    "__Illumination diffuse__ : La lumière se disperse dans tous les sens (surface matte, il n'y a pas de réflection)\n",
    "- La couleur pleine des balles\n",
    "\n",
    "__Reflets spéculaires__ : Réflection de la lumière (glossy) dépend de l'éclairage\n",
    "- La partie qui est blanche"
   ]
  },
  {
   "cell_type": "markdown",
   "metadata": {
    "id": "ZXkcFjFKdXa4"
   },
   "source": [
    "**b)** Quelle information est nécessaire pour déterminer les caractéristiques et emplacements exacts des sources de lumières dans cette image ? Vous pouvez répondre en utilisant des éléments de la *Bidirectional Reflectance Distribution Function* (BRDF)."
   ]
  },
  {
   "cell_type": "markdown",
   "metadata": {
    "id": "aGntKizNdXa5",
    "tags": []
   },
   "source": [
    "*(réponse ici)*<br>\n",
    "__Nécessite__ :\n",
    "- La position des sphères\n",
    "- La position de la caméra\n",
    "\n",
    "On a pas toutes les infos nécessaires"
   ]
  },
  {
   "cell_type": "markdown",
   "metadata": {
    "id": "NhFn190TftCu"
   },
   "source": [
    "### Q1.6\n",
    "\n",
    "**a)** Pourquoi deux appareils de capture peuvent produire des valeurs RGB différentes d'une même couleur ? "
   ]
  },
  {
   "cell_type": "markdown",
   "metadata": {
    "id": "H4LmStT2f6C1"
   },
   "source": [
    "*(réponse ici)*<br>\n",
    "- La calibration peut être différente\n",
    "- Les paramètres pour le white balance etc sont différents"
   ]
  },
  {
   "cell_type": "markdown",
   "metadata": {
    "id": "obSsXTc8f5XM"
   },
   "source": [
    "**b)** Que peut-on faire pour comparer numériquement des couleurs provenant de deux capteurs différents ?"
   ]
  },
  {
   "cell_type": "markdown",
   "metadata": {
    "id": "CZ629ialf4VV"
   },
   "source": [
    "*(réponse ici)*<br>\n",
    "Utiliser l'espace de couleur XYZ (repère global) et faire des changement de repère de couleur pour les mettre les deux dans cet espace de couleur"
   ]
  },
  {
   "cell_type": "markdown",
   "metadata": {
    "id": "TKQOpwTVdWyE"
   },
   "source": [
    "## Repères et coordonnées\n",
    "\n",
    "### Q2.1\n",
    "\n",
    "Supposons ces 2 repères :\n",
    "\n",
    "![](images_doc/proc1-q2_1-frames.png)\n",
    "\n",
    "**a)** Trouvez la matrice homogène permettant de transformer un point du repère $\\{1\\}$ au repère $\\{0\\}$."
   ]
  },
  {
   "cell_type": "code",
   "execution_count": 3,
   "metadata": {
    "id": "jULxdVBsdWyE",
    "outputId": "630316fc-4340-46fa-aa1f-54f653075553"
   },
   "outputs": [
    {
     "name": "stdout",
     "output_type": "stream",
     "text": [
      "Transform:\n",
      " [[  0.   1.   0. 240.]\n",
      " [  1.   0.   0.  80.]\n",
      " [  0.   0.  -1. 120.]\n",
      " [  0.   0.   0.   1.]]\n"
     ]
    }
   ],
   "source": [
    "R1 = np.array([[1, 0, 0], [0, -1, 0], [0, 0, -1]]) # Rotation de 180° sur l'axe x\n",
    "R2 = np.array([[0, 1, 0], [-1, 0, 0], [0, 0, 1]]) # Rotation de 90° sur l'axe y\n",
    "R = R1 @ R2 # Rotation de 180° sur l'axe x puis de 90° sur l'axe y\n",
    "\n",
    "Translation = np.array([[240], [80], [120], [1]])\n",
    "\n",
    "T_intermediaire = np.vstack((R, np.zeros((1,3))))\n",
    "\n",
    "T_10 = np.hstack((T_intermediaire, Translation))\n",
    "\n",
    "print(\"Transform:\\n\", T_10)"
   ]
  },
  {
   "cell_type": "markdown",
   "metadata": {
    "id": "jJIOwDUPdWyF"
   },
   "source": [
    "**b)** Trouvez maintenant la transformation inverse."
   ]
  },
  {
   "cell_type": "code",
   "execution_count": 4,
   "metadata": {
    "id": "LH35FSWqdWyG"
   },
   "outputs": [
    {
     "name": "stdout",
     "output_type": "stream",
     "text": [
      "Inverse Transform:\n",
      " [[   0.    1.    0.  -80.]\n",
      " [   1.    0.    0. -240.]\n",
      " [  -0.   -0.   -1.  120.]\n",
      " [   0.    0.    0.    1.]]\n"
     ]
    }
   ],
   "source": [
    "T_01 = np.linalg.inv(T_10)\n",
    "print(\"Inverse Transform:\\n\", T_01)"
   ]
  },
  {
   "cell_type": "markdown",
   "metadata": {
    "id": "L2ximr9WdWyG"
   },
   "source": [
    "**c)** Soit le point $p_0 = [8, 5, 1]^T$, un point dans le repère $\\{0\\}$. Trouvez $p_1$, ses coordonnées dans le repère $\\{1\\}$."
   ]
  },
  {
   "cell_type": "code",
   "execution_count": null,
   "metadata": {
    "id": "b22z2cUnf0WF"
   },
   "outputs": [],
   "source": []
  },
  {
   "cell_type": "code",
   "execution_count": 5,
   "metadata": {
    "id": "nj0k5hkLdWyG"
   },
   "outputs": [
    {
     "name": "stdout",
     "output_type": "stream",
     "text": [
      "Point dans repère 1:\n",
      " [ -75. -232.  119.]\n"
     ]
    }
   ],
   "source": [
    "p_0 = [8, 5, 1, 1]\n",
    "p_1 = [0, 0, 0, 0]\n",
    "\n",
    "\n",
    "p_1 = T_01 @ p_0\n",
    "\n",
    "print(\"Point dans repère 1:\\n\", p_1[0:3])"
   ]
  },
  {
   "cell_type": "markdown",
   "metadata": {
    "id": "XPkWLvBydWyH"
   },
   "source": [
    "### Q2.2\n",
    "\n",
    "Supposons maintenant que le repère $\\{1\\}$ représente une caméra avec les caractéristiques intrinsèques $K$ de la question Q1.3.\n",
    "\n",
    "**a)** Trouvez la matrice de projection P complète permettant de projeter un point $p$ décrit dans le repère $\\{0\\}$.\n",
    "\n",
    "# Voir page 54 Livre\n",
    "$P  = K [R | T]$ _où R | T représente la matrice de rotation et le vecteur de transformation k(3x3) * R|t(3x4) = (3x4)_\n",
    "\n",
    "$\\tilde{P} = \\tilde{K} E$ _Ici c'est juste de rajouter la ligne (1x4) de [0, 0, 0, 1] à K pour donner ktilde et que RT soit ta matrice de transformation_\n",
    "\n",
    "$x_s \\sim \\tilde{P} \\bar{p_w}$\n",
    "\n",
    "$x_s = (X_s, Y_s, 1, d) $\n",
    "\n",
    "$d = 1 / z$\n",
    "\n",
    "Dans notre cas, $E$ correspond à $T_{01}$, car on souhaite passer du repère global à celui de la caméra, $p_w$ est donc $p_0$ et $x_s$ continendra les coordonnées normalisées dans l'image.\n",
    "\n",
    "$d$ correspond à la disparité, ou $1/z$, où $z$ et la distance du point dans le repère de la caméra (donc en Z, où Z augmente avec la distance)."
   ]
  },
  {
   "cell_type": "code",
   "execution_count": 10,
   "metadata": {
    "id": "6XhSj3FRdWyH",
    "outputId": "ab32f10e-8b2c-4cea-ed94-5ec725bbe94c"
   },
   "outputs": [
    {
     "name": "stdout",
     "output_type": "stream",
     "text": [
      "P_tilde:\n",
      " [[ 0.000e+00  6.200e+02 -1.024e+03  7.328e+04]\n",
      " [ 6.200e+02  0.000e+00 -5.120e+02 -8.736e+04]\n",
      " [ 0.000e+00  0.000e+00 -1.000e+00  1.200e+02]\n",
      " [ 0.000e+00  0.000e+00  0.000e+00  1.000e+00]]\n"
     ]
    }
   ],
   "source": [
    "#print(K) # Si vous n'avez pas réutilisé la variable K, elle aura toujours la même valeur qu'à la question Q1.3.\n",
    "\n",
    "k_tilde = np.hstack( ( np.vstack( (K, np.zeros((1,3))) ), np.array([[0], [0], [0], [1]]) ) )\n",
    "\n",
    "p_tilde = k_tilde @ T_01 # 4x4\n",
    "\n",
    "print(\"P_tilde:\\n\", p_tilde)\n",
    "\n"
   ]
  },
  {
   "cell_type": "markdown",
   "metadata": {
    "id": "2UEWupgIdWyI"
   },
   "source": [
    "**b)** Soit le point $p_0 = [0.250, 0.010, 0.000]$ en m. Trouvez le point $x_s$, les coordonnées du point $p_0$ perçu par la caméra."
   ]
  },
  {
   "cell_type": "code",
   "execution_count": 22,
   "metadata": {
    "id": "WryXyIycdWyI"
   },
   "outputs": [
    {
     "name": "stdout",
     "output_type": "stream",
     "text": [
      "[7.948e+04 6.764e+04 1.200e+02 1.000e+00]\n",
      "[6.62333333e+02 5.63666667e+02 1.00000000e+00 8.33333333e-03]\n"
     ]
    }
   ],
   "source": [
    "p_0 = np.array([250, 10, 0.000, 1])\n",
    "x_s = p_tilde @ p_0\n",
    "\n",
    "print(x_s)\n",
    "\n",
    "x_s_normalized = x_s / x_s[2]\n",
    "\n",
    "print(x_s_normalized)"
   ]
  },
  {
   "cell_type": "markdown",
   "metadata": {
    "id": "tpa--SomdWyY"
   },
   "source": [
    "## Reprojection 2D à 3D"
   ]
  },
  {
   "cell_type": "markdown",
   "metadata": {
    "id": "UVHRnJsIdWyY"
   },
   "source": [
    "### Q3.1\n",
    "\n",
    "Supposons que le plan XY du repère $\\{0\\}$ est un convoyeur. Quelle serait sa largeur maximale (mesurée sur l'axe Y) si on souhaite que la caméra la capte au complet dans son image ? "
   ]
  },
  {
   "cell_type": "code",
   "execution_count": 8,
   "metadata": {
    "id": "2WqHjEONdWyZ"
   },
   "outputs": [],
   "source": [
    "l_conv = 0"
   ]
  },
  {
   "cell_type": "markdown",
   "metadata": {
    "id": "Jk6xchjCdWyZ"
   },
   "source": [
    "### Q3.2\n",
    "\n",
    "Soit le point $x_s = [120, 200]$, un point dans l'image perçu par la caméra décrite plus haut. On suppose que le point perçu se trouve sur le plan XY du repère $\\{0\\}$. Trouvez les coordonnées du point $p_0$ qui correspond à ce même point dans le repère $\\{0\\}$."
   ]
  },
  {
   "cell_type": "code",
   "execution_count": 46,
   "metadata": {
    "id": "GYiNDm-BdWya"
   },
   "outputs": [
    {
     "name": "stdout",
     "output_type": "stream",
     "text": [
      "[1.44e+04 2.40e+04 1.20e+02 1.00e+00]\n",
      "[179.61290323 -94.96774194   0.           1.        ]\n"
     ]
    }
   ],
   "source": [
    "x_s2 = np.array([120, 200, 1, 1/120]) * 120\n",
    "\n",
    "print(x_s2)\n",
    "\n",
    "p_inv = np.linalg.inv(p_tilde)\n",
    "\n",
    "p_w = p_inv @ x_s2\n",
    "\n",
    "print(p_w)"
   ]
  },
  {
   "cell_type": "code",
   "execution_count": null,
   "metadata": {},
   "outputs": [],
   "source": []
  },
  {
   "cell_type": "code",
   "execution_count": null,
   "metadata": {},
   "outputs": [],
   "source": []
  }
 ],
 "metadata": {
  "colab": {
   "collapsed_sections": [],
   "name": "proc_1.ipynb",
   "provenance": []
  },
  "kernelspec": {
   "display_name": "Python 3.9.1 64-bit",
   "language": "python",
   "name": "python3"
  },
  "language_info": {
   "codemirror_mode": {
    "name": "ipython",
    "version": 3
   },
   "file_extension": ".py",
   "mimetype": "text/x-python",
   "name": "python",
   "nbconvert_exporter": "python",
   "pygments_lexer": "ipython3",
   "version": "3.9.1"
  },
  "vscode": {
   "interpreter": {
    "hash": "85ad3f6a14234c6fbb11b0c1987748acb7c43d35f170ee290ffcc160ed847cca"
   }
  }
 },
 "nbformat": 4,
 "nbformat_minor": 4
}
